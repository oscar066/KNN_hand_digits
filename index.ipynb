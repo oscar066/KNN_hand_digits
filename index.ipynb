{
 "cells": [
  {
   "attachments": {},
   "cell_type": "markdown",
   "metadata": {},
   "source": [
    "## Knearest Neighbors Classifier Algorithm"
   ]
  },
  {
   "cell_type": "code",
   "execution_count": 1,
   "metadata": {},
   "outputs": [],
   "source": [
    "# Importing the libraries\n",
    "import pandas as pd\n",
    "import numpy as np\n",
    "import matplotlib.pyplot as plt\n",
    "\n",
    "from sklearn.datasets import load_digits\n",
    "from sklearn.utils import shuffle\n",
    "from sklearn.model_selection import train_test_split\n",
    "from sklearn.metrics import accuracy_score"
   ]
  },
  {
   "cell_type": "code",
   "execution_count": 2,
   "metadata": {},
   "outputs": [],
   "source": [
    "# Load the dataset\n",
    "digits = load_digits()\n",
    "\n",
    "# Shuffle the dataset\n",
    "X, y = shuffle(digits.data, digits.target)"
   ]
  },
  {
   "cell_type": "code",
   "execution_count": 3,
   "metadata": {},
   "outputs": [
    {
     "data": {
      "image/png": "[encoded data removed]",
      "text/plain": [
       "<Figure size 432x288 with 5 Axes>"
      ]
     },
     "metadata": {
      "needs_background": "light"
     },
     "output_type": "display_data"
    }
   ],
   "source": [
    "# making sure the labels and the images are matching after shuffling\n",
    "for i in range(5):\n",
    "    plt.subplot(1, 5, i+1)\n",
    "    plt.imshow(np.reshape(X[i], (8, 8)), cmap='gray')\n",
    "    plt.title('Label: %i \\n' % y[i], fontsize = 10)\n",
    "plt.show()"
   ]
  },
  {
   "cell_type": "code",
   "execution_count": 4,
   "metadata": {},
   "outputs": [],
   "source": [
    "from sklearn.model_selection import train_test_split\n",
    "\n",
    "# Split the dataset into training and test sets\n",
    "X_train, X_test, y_train, y_test = train_test_split(X, y, test_size=0.15, random_state=42)\n",
    "\n",
    "# Split the training set into a training set and a dev set\n",
    "X_train, X_dev, y_train, y_dev = train_test_split(X_train, y_train, test_size=0.15, random_state=42)\n"
   ]
  },
  {
   "attachments": {},
   "cell_type": "markdown",
   "metadata": {},
   "source": [
    "Euclidean formula: $$\\sqrt{\\sum_{i=1}^{n}(x_i - y_i)^2}$$  \n",
    "where $x_i$ and $y_i$ are the features of the two data points. <br>\n",
    "\n",
    "Manhattan formula: $$\\sum_{i=1}^{n}|x_i - y_i|$$  \n",
    "where $x_i$ and $y_i$ are the features of the two data points. <br>\n",
    "\n",
    "Cosine formula: $$1 - \\frac{\\sum_{i=1}^{n}x_iy_i}{\\sqrt{\\sum_{i=1}^{n}x_i^2}\\sqrt{\\sum_{i=1}^{n}y_i^2}}$$  \n",
    "where $x_i$ and $y_i$ are the features of the two data points. <br>\n",
    "\n",
    "    "
   ]
  },
  {
   "cell_type": "code",
   "execution_count": 5,
   "metadata": {},
   "outputs": [],
   "source": [
    "# Define the distance function\n",
    "def euclidean_distance(x1, x2):\n",
    "    return np.sqrt(np.sum((x1 - x2)**2))\n",
    "\n",
    "def manhattan_distance(x1, x2):\n",
    "    return np.sum(np.abs(x1 - x2))\n",
    "\n",
    "def cosine_distance(x1, x2):\n",
    "    return 1 - (np.dot(x1, x2) / (np.linalg.norm(x1) * np.linalg.norm(x2)))"
   ]
  },
  {
   "cell_type": "code",
   "execution_count": 6,
   "metadata": {},
   "outputs": [],
   "source": [
    "# Define the KNN classifier\n",
    "class KNN:\n",
    "    def __init__(self, k, distance_fn):\n",
    "        self.k = k\n",
    "        self.distance_fn = distance_fn\n",
    "\n",
    "    def fit(self, X, y):\n",
    "        self.X_train = X\n",
    "        self.y_train = y\n",
    "\n",
    "    def predict(self, X):\n",
    "        # Initialize an empty list to store predictions\n",
    "        y_pred = []\n",
    "        for x in X:\n",
    "             # Initialize an empty list to store distances of each point in the training set to the current point\n",
    "            distances = []\n",
    "            for i in range(len(self.X_train)):\n",
    "                # Calculate the distance between the current point and the point in the training set\n",
    "                distance = self.distance_fn(x, self.X_train[i])\n",
    "                # Add the distance and corresponding label to the list of distances\n",
    "                distances.append((distance, self.y_train[i]))\n",
    "            # sort the list of distances based on the distance\n",
    "            distances.sort()\n",
    "            # get the k nearest neighbors by taking the first k elements of the sorted list\n",
    "            k_neighbors = distances[:self.k]\n",
    "            # get the labels of the k nearest neighbors\n",
    "            k_neighbors_labels = [c for _, c in k_neighbors]\n",
    "            # append the most common label among the k nearest neighbors as the prediction for the current point\n",
    "            y_pred.append(np.argmax(np.bincount(k_neighbors_labels)))\n",
    "        return y_pred\n",
    "\n",
    "        "
   ]
  },
  {
   "cell_type": "code",
   "execution_count": 7,
   "metadata": {},
   "outputs": [],
   "source": [
    "# finding the best k and distance function\n",
    "best_k = 0\n",
    "best_distance_fn = None\n",
    "best_accuracy = 0\n",
    "\n",
    "for k in range(1, 11):\n",
    "    for distance_fn in [euclidean_distance, manhattan_distance, cosine_distance]:\n",
    "        knn = KNN(k, distance_fn)\n",
    "        knn.fit(X_train, y_train)\n",
    "        y_pred = knn.predict(X_dev)\n",
    "        accuracy = accuracy_score(y_dev, y_pred)\n",
    "        if accuracy > best_accuracy:\n",
    "            best_k = k\n",
    "            best_distance_fn = distance_fn\n",
    "            best_accuracy = accuracy\n"
   ]
  },
  {
   "cell_type": "code",
   "execution_count": 8,
   "metadata": {},
   "outputs": [
    {
     "name": "stdout",
     "output_type": "stream",
     "text": [
      "Best k: 1\n",
      "Best distance function: euclidean_distance\n"
     ]
    }
   ],
   "source": [
    "# the best k and distance function\n",
    "print(f\"Best k: {best_k}\")\n",
    "print(f\"Best distance function: {best_distance_fn.__name__}\")"
   ]
  },
  {
   "cell_type": "code",
   "execution_count": 9,
   "metadata": {},
   "outputs": [
    {
     "name": "stdout",
     "output_type": "stream",
     "text": [
      "Accuracy: 0.9888888888888889\n"
     ]
    }
   ],
   "source": [
    "# Test the model\n",
    "\n",
    "# Initialize the KNN classifier with the best k and distance function\n",
    "knn = KNN(best_k, best_distance_fn)\n",
    "# Fit the model on the training set\n",
    "knn.fit(X_train, y_train)\n",
    "# Make predictions on the test set\n",
    "y_pred = knn.predict(X_test)\n",
    "# Calculate the accuracy of the model\n",
    "accuracy = accuracy_score(y_test, y_pred)\n",
    "print(f\"Accuracy: {accuracy}\")"
   ]
  },
  {
   "attachments": {},
   "cell_type": "markdown",
   "metadata": {},
   "source": [
    "The model performed well with an accuracy of 99% on the test data"
   ]
  },
  {
   "attachments": {},
   "cell_type": "markdown",
   "metadata": {},
   "source": [
    "## Visualize the Ground Truth"
   ]
  },
  {
   "cell_type": "code",
   "execution_count": 11,
   "metadata": {},
   "outputs": [
    {
     "data": {
      "image/png": "[encoded data removed]",
      "text/plain": [
       "<Figure size 432x288 with 1 Axes>"
      ]
     },
     "metadata": {
      "needs_background": "light"
     },
     "output_type": "display_data"
    },
    {
     "data": {
      "image/png": "[encoded data removed]",
      "text/plain": [
       "<Figure size 432x288 with 1 Axes>"
      ]
     },
     "metadata": {
      "needs_background": "light"
     },
     "output_type": "display_data"
    },
    {
     "data": {
      "image/png": "[encoded data removed]",
      "text/plain": [
       "<Figure size 432x288 with 1 Axes>"
      ]
     },
     "metadata": {
      "needs_background": "light"
     },
     "output_type": "display_data"
    },
    {
     "data": {
      "image/png": "[encoded data removed]",
      "text/plain": [
       "<Figure size 432x288 with 1 Axes>"
      ]
     },
     "metadata": {
      "needs_background": "light"
     },
     "output_type": "display_data"
    },
    {
     "data": {
      "image/png": "[encoded data removed]",
      "text/plain": [
       "<Figure size 432x288 with 1 Axes>"
      ]
     },
     "metadata": {
      "needs_background": "light"
     },
     "output_type": "display_data"
    },
    {
     "data": {
      "image/png": "[encoded data removed]",
      "text/plain": [
       "<Figure size 432x288 with 1 Axes>"
      ]
     },
     "metadata": {
      "needs_background": "light"
     },
     "output_type": "display_data"
    },
    {
     "data": {
      "image/png": "[encoded data removed]",
      "text/plain": [
       "<Figure size 432x288 with 1 Axes>"
      ]
     },
     "metadata": {
      "needs_background": "light"
     },
     "output_type": "display_data"
    },
    {
     "data": {
      "image/png": "[encoded data removed]",
      "text/plain": [
       "<Figure size 432x288 with 1 Axes>"
      ]
     },
     "metadata": {
      "needs_background": "light"
     },
     "output_type": "display_data"
    },
    {
     "data": {
      "image/png": "[encoded data removed]",
      "text/plain": [
       "<Figure size 432x288 with 1 Axes>"
      ]
     },
     "metadata": {
      "needs_background": "light"
     },
     "output_type": "display_data"
    },
    {
     "data": {
      "image/png": "[encoded data removed]",
      "text/plain": [
       "<Figure size 432x288 with 1 Axes>"
      ]
     },
     "metadata": {
      "needs_background": "light"
     },
     "output_type": "display_data"
    }
   ],
   "source": [
    "# Randomly select 10 samples from the test set\n",
    "random_indices = np.random.randint(0, len(X_test), 10)\n",
    "X_sample, y_sample = X_test[random_indices], y_test[random_indices]\n",
    "\n",
    "# Predict the labels for the selected samples\n",
    "y_pred = knn.predict(X_sample)\n",
    "\n",
    "# Visualize the predictions\n",
    "for i in range(len(X_sample)):\n",
    "    plt.imshow(X_sample[i].reshape(8, 8), cmap='gray')\n",
    "    plt.title(\"Ground Truth: {}\\nPredicted: {}\".format(y_sample[i], y_pred[i]))\n",
    "    plt.savefig('image_{}.png'.format(i))\n",
    "    plt.show()\n"
   ]
  },
  {
   "attachments": {},
   "cell_type": "markdown",
   "metadata": {},
   "source": [
    "The model was able to match the predicted values with the ground truth values "
   ]
  }
 ],
 "metadata": {
  "kernelspec": {
   "display_name": "data",
   "language": "python",
   "name": "python3"
  },
  "language_info": {
   "codemirror_mode": {
    "name": "ipython",
    "version": 3
   },
   "file_extension": ".py",
   "mimetype": "text/x-python",
   "name": "python",
   "nbconvert_exporter": "python",
   "pygments_lexer": "ipython3",
   "version": "3.9.7"
  },
  "orig_nbformat": 4,
  "vscode": {
   "interpreter": {
    "hash": "4b5221f7fd568601ffb692ded55cc6a8f9f720c6422993e13b3964f3c2d5ea0a"
   }
  }
 },
 "nbformat": 4,
 "nbformat_minor": 2
}
